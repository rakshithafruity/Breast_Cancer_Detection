{
 "cells": [
  {
   "cell_type": "code",
   "execution_count": null,
   "id": "48abe88b",
   "metadata": {},
   "outputs": [],
   "source": [
    "import tensorflow as tf\n",
    "from tensorflow.keras.utils import CustomObjectScope\n",
    "import numpy as np\n",
    "import cv2"
   ]
  },
  {
   "cell_type": "code",
   "execution_count": null,
   "id": "11af9c48",
   "metadata": {},
   "outputs": [],
   "source": [
    "smooth = 1e-15\n",
    "def dice_coef(y_true, y_pred):\n",
    "    y_true = tf.keras.layers.Flatten()(y_true)\n",
    "    y_pred = tf.keras.layers.Flatten()(y_pred)\n",
    "    intersection = tf.reduce_sum(y_true * y_pred)\n",
    "    return (2. * intersection + smooth) / (tf.reduce_sum(y_true) + tf.reduce_sum(y_pred) + smooth)\n",
    "\n",
    "def dice_loss(y_true, y_pred):\n",
    "    return 1.0 - dice_coef(y_true, y_pred)"
   ]
  },
  {
   "cell_type": "code",
   "execution_count": null,
   "id": "49517023",
   "metadata": {},
   "outputs": [],
   "source": [
    "with CustomObjectScope({\"dice_coef\": dice_coef, \"dice_loss\": dice_loss}):\n",
    "    model = tf.keras.models.load_model(\"model.keras\")"
   ]
  },
  {
   "cell_type": "code",
   "execution_count": null,
   "id": "663fa03f",
   "metadata": {},
   "outputs": [],
   "source": [
    "path=r\"C:\\Users\\babag\\PROJECT_FOLDERS\\2_2PS\\new for unet\\Data\\17.png\"\n",
    "image = cv2.imread(path, cv2.IMREAD_COLOR) ## [H, w, 3]\n",
    "image = cv2.resize(image, (224, 224))       ## [H, w, 3]/\n",
    "x = image/255.0                         ## [H, w, 3]\n",
    "x = np.expand_dims(x, axis=0)           ## [1, H, w, 3]"
   ]
  },
  {
   "cell_type": "code",
   "execution_count": null,
   "id": "d6003da9",
   "metadata": {},
   "outputs": [],
   "source": [
    "y_pred = model.predict(x, verbose=0)[0]\n",
    "y_pred = np.squeeze(y_pred, axis=-1)\n",
    "y_pred = y_pred >= 0.5\n",
    "y_pred = y_pred.astype(np.int32)"
   ]
  },
  {
   "cell_type": "code",
   "execution_count": null,
   "id": "f6654913",
   "metadata": {},
   "outputs": [],
   "source": [
    "y_pred = np.expand_dims(y_pred, axis=-1)\n",
    "y_pred = np.concatenate([y_pred, y_pred, y_pred], axis=-1)\n",
    "y_pred = y_pred * 255"
   ]
  },
  {
   "cell_type": "code",
   "execution_count": null,
   "id": "a819d647",
   "metadata": {},
   "outputs": [],
   "source": [
    "final = y_pred\n",
    "cv2.imwrite(\"final.png\", final)"
   ]
  },
  {
   "cell_type": "code",
   "execution_count": 3,
   "id": "f96a9b36",
   "metadata": {},
   "outputs": [
    {
     "name": "stdout",
     "output_type": "stream",
     "text": [
      "Overlay image saved at: C:\\Users\\babag\\PROJECT_FOLDERS\\2_2PS\\new for unet\\Data\\overlay.png\n"
     ]
    }
   ],
   "source": [
    "import tensorflow as tf\n",
    "from tensorflow.keras.utils import CustomObjectScope\n",
    "import numpy as np\n",
    "import cv2\n",
    "\n",
    "# Define dice coefficient and dice loss functions\n",
    "smooth = 1e-15\n",
    "def dice_coef(y_true, y_pred):\n",
    "    y_true = tf.keras.layers.Flatten()(y_true)\n",
    "    y_pred = tf.keras.layers.Flatten()(y_pred)\n",
    "    intersection = tf.reduce_sum(y_true * y_pred)\n",
    "    return (2. * intersection + smooth) / (tf.reduce_sum(y_true) + tf.reduce_sum(y_pred) + smooth)\n",
    "\n",
    "def dice_loss(y_true, y_pred):\n",
    "    return 1.0 - dice_coef(y_true, y_pred)\n",
    "\n",
    "# Load the model with custom objects\n",
    "with CustomObjectScope({\"dice_coef\": dice_coef, \"dice_loss\": dice_loss}):\n",
    "    model = tf.keras.models.load_model(\"model.keras\")\n",
    "\n",
    "# Load and preprocess the image\n",
    "path = r\"C:\\Users\\babag\\PROJECT_FOLDERS\\2_2PS\\new for unet\\Data\\17.png\"\n",
    "image = cv2.imread(path, cv2.IMREAD_COLOR)  # [H, W, 3]\n",
    "image = cv2.resize(image, (224, 224))       # [H, W, 3]\n",
    "x = image / 255.0                           # [H, W, 3]\n",
    "x = np.expand_dims(x, axis=0)               # [1, H, W, 3]\n",
    "\n",
    "# Predict the mask\n",
    "y_pred = model.predict(x, verbose=0)[0]     # [H, W, 1]\n",
    "y_pred = np.squeeze(y_pred, axis=-1)        # [H, W]\n",
    "y_pred = y_pred >= 0.5                      # Thresholding\n",
    "y_pred = y_pred.astype(np.uint8)            # Convert to uint8\n",
    "y_pred = np.expand_dims(y_pred, axis=-1)    # [H, W, 1]\n",
    "y_pred = np.concatenate([y_pred, y_pred, y_pred], axis=-1)  # [H, W, 3]\n",
    "y_pred = y_pred * 255                       # Convert to 0-255 scale\n",
    "\n",
    "# Ensure both images are of the same type\n",
    "image = image.astype(np.uint8)\n",
    "\n",
    "# Overlay the mask on the original image\n",
    "overlay = cv2.addWeighted(image, 0.5, y_pred, 0.5, 0)\n",
    "\n",
    "# Save the result\n",
    "output_path = r\"C:\\Users\\babag\\PROJECT_FOLDERS\\2_2PS\\new for unet\\Data\\overlay.png\"\n",
    "cv2.imwrite(output_path, overlay)\n",
    "\n",
    "print(\"Overlay image saved at:\", output_path)\n"
   ]
  },
  {
   "cell_type": "code",
   "execution_count": null,
   "id": "6d3d67eb",
   "metadata": {},
   "outputs": [],
   "source": []
  }
 ],
 "metadata": {
  "kernelspec": {
   "display_name": "Python 3 (ipykernel)",
   "language": "python",
   "name": "python3"
  },
  "language_info": {
   "codemirror_mode": {
    "name": "ipython",
    "version": 3
   },
   "file_extension": ".py",
   "mimetype": "text/x-python",
   "name": "python",
   "nbconvert_exporter": "python",
   "pygments_lexer": "ipython3",
   "version": "3.10.9"
  }
 },
 "nbformat": 4,
 "nbformat_minor": 5
}
